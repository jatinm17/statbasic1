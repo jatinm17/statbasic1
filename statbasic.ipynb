{
 "cells": [
  {
   "cell_type": "code",
   "execution_count": 1,
   "id": "a70e1bf0-b42a-42a5-891d-3366dd57b129",
   "metadata": {},
   "outputs": [
    {
     "data": {
      "text/plain": [
       "'Statistics is the study of the collection, analysis, interpretation, presentation, and organization of data. In other words, it is a mathematical discipline to collect, summarize data. Also, we can say that statistics is a branch of applied mathematics. However, there are two important and basic ideas involved in statistics; they are uncertainty and variation. The uncertainty and variation in different fields can be determined only through statistical analysis. These uncertainties are basically determined by the probability that plays an important role in statistics. '"
      ]
     },
     "execution_count": 1,
     "metadata": {},
     "output_type": "execute_result"
    }
   ],
   "source": [
    "# question 1\n",
    "'''Statistics is the study of the collection, analysis, interpretation, presentation, and organization of data. In other words, it is a mathematical discipline to collect, summarize data. Also, we can say that statistics is a branch of applied mathematics. However, there are two important and basic ideas involved in statistics; they are uncertainty and variation. The uncertainty and variation in different fields can be determined only through statistical analysis. These uncertainties are basically determined by the probability that plays an important role in statistics. '''"
   ]
  },
  {
   "cell_type": "code",
   "execution_count": 2,
   "id": "5d565ce1-cbce-4daf-95c8-5e99942db467",
   "metadata": {},
   "outputs": [
    {
     "data": {
      "text/plain": [
       "'The two major areas of statistics are known as descriptive statistics, which describes the properties of sample and population data, and inferential statistics, which uses those properties to test hypotheses and draw conclusions.'"
      ]
     },
     "execution_count": 2,
     "metadata": {},
     "output_type": "execute_result"
    }
   ],
   "source": [
    "# QUESTION 2\n",
    "'''The two major areas of statistics are known as descriptive statistics, which describes the properties of sample and population data, and inferential statistics, which uses those properties to test hypotheses and draw conclusions.'''"
   ]
  },
  {
   "cell_type": "code",
   "execution_count": 5,
   "id": "476998e8-83a3-4473-98ec-59b05313e162",
   "metadata": {},
   "outputs": [
    {
     "data": {
      "text/plain": [
       "'1.Nominal Data is used to label variables without any order or quantitative value. The color of hair can be considered nominal data, as one color can’t be compared with another color.\\n2.Ordinal data have natural ordering where a number is present in some kind of order by their position on the scale. These data are used for observation like customer satisfaction, happiness, etc., but we can’t do any arithmetical tasks on them. \\n3.The term discrete means distinct or separate. The discrete data contain the values that fall under integers or whole numbers. The total number of students in a class is an example of discrete data. These data can’t be broken into decimal or fraction values.\\n4.Continuous data are in the form of fractional numbers. It can be the version of an android phone, the height of a person, the length of an object, etc. Continuous data represents information that can be divided into smaller levels. The continuous variable can take any value within a range. '"
      ]
     },
     "execution_count": 5,
     "metadata": {},
     "output_type": "execute_result"
    }
   ],
   "source": [
    "# QUESTION 3\n",
    "# Data can be divided into 4 types 1.Nominal 2.Ordinal 3.Discrete 4.Continuous\n",
    "'''1.Nominal Data is used to label variables without any order or quantitative value. The color of hair can be considered nominal data, as one color can’t be compared with another color.\n",
    "2.Ordinal data have natural ordering where a number is present in some kind of order by their position on the scale. These data are used for observation like customer satisfaction, happiness, etc., but we can’t do any arithmetical tasks on them. \n",
    "3.The term discrete means distinct or separate. The discrete data contain the values that fall under integers or whole numbers. The total number of students in a class is an example of discrete data. These data can’t be broken into decimal or fraction values.\n",
    "4.Continuous data are in the form of fractional numbers. It can be the version of an android phone, the height of a person, the length of an object, etc. Continuous data represents information that can be divided into smaller levels. The continuous variable can take any value within a range. '''"
   ]
  },
  {
   "cell_type": "code",
   "execution_count": 3,
   "id": "ed9bba0d-b385-4c38-ab80-96908285fd3f",
   "metadata": {},
   "outputs": [
    {
     "data": {
      "text/plain": [
       "'1.Quantitative 2.Qualitative 3.Quantitative 4.Quantitative'"
      ]
     },
     "execution_count": 3,
     "metadata": {},
     "output_type": "execute_result"
    }
   ],
   "source": [
    "# QUESTION 4\n",
    "'''1.Quantitative 2.Qualitative 3.Quantitative 4.Quantitative'''\n"
   ]
  },
  {
   "cell_type": "code",
   "execution_count": 7,
   "id": "a50d574b-3446-4ce4-a578-934ba0d33141",
   "metadata": {},
   "outputs": [
    {
     "data": {
      "text/plain": [
       "'Nominal: the data can only be categorized\\nOrdinal: the data can be categorized and ranked\\nInterval: the data can be categorized, ranked, and evenly spaced\\nRatio: the data can be categorized, ranked, evenly spaced, and has a natural zero.'"
      ]
     },
     "execution_count": 7,
     "metadata": {},
     "output_type": "execute_result"
    }
   ],
   "source": [
    "# Question 5\n",
    "'''Levels of measurement, also called scales of measurement, tell you how precisely variables are recorded. In scientific research, a variable is anything that can take on different values across your data set (e.g., height or test scores).'''\n",
    "'''There are 4 level of measurement'''\n",
    "'''Nominal: the data can only be categorized\n",
    "Ordinal: the data can be categorized and ranked\n",
    "Interval: the data can be categorized, ranked, and evenly spaced\n",
    "Ratio: the data can be categorized, ranked, evenly spaced, and has a natural zero.'''"
   ]
  },
  {
   "cell_type": "code",
   "execution_count": 8,
   "id": "cc8e60fb-764f-4ce2-a279-13be154ceb6f",
   "metadata": {},
   "outputs": [
    {
     "data": {
      "text/plain": [
       "'It is important to understand the level of measurement of variables in research, because the level of measurement determines the type of statistical analysis that can be conducted, and, therefore, the type of conclusions that can be drawn from the research.'"
      ]
     },
     "execution_count": 8,
     "metadata": {},
     "output_type": "execute_result"
    }
   ],
   "source": [
    "# Question 6\n",
    "'''It is important to understand the level of measurement of variables in research, because the level of measurement determines the type of statistical analysis that can be conducted, and, therefore, the type of conclusions that can be drawn from the research.'''"
   ]
  },
  {
   "cell_type": "code",
   "execution_count": 9,
   "id": "9d4bc19c-f283-4d68-921a-3c11a5656787",
   "metadata": {},
   "outputs": [
    {
     "data": {
      "text/plain": [
       "' Nominal Data is classified without any intrinsic ordering or rank, Ordinal Data has some predetermined or natural order. Nominal data is qualitative or categorical data, while Ordinal data is considered “in-between” qualitative and quantitative data.'"
      ]
     },
     "execution_count": 9,
     "metadata": {},
     "output_type": "execute_result"
    }
   ],
   "source": [
    "# Question 7\n",
    "''' Nominal Data is classified without any intrinsic ordering or rank, Ordinal Data has some predetermined or natural order. Nominal data is qualitative or categorical data, while Ordinal data is considered “in-between” qualitative and quantitative data.'''"
   ]
  },
  {
   "cell_type": "code",
   "execution_count": 10,
   "id": "1c10eb61-4067-4bf3-a18a-e35d1930fee1",
   "metadata": {},
   "outputs": [
    {
     "data": {
      "text/plain": [
       "'Histogram'"
      ]
     },
     "execution_count": 10,
     "metadata": {},
     "output_type": "execute_result"
    }
   ],
   "source": [
    "# Question 8\n",
    "'''Histogram'''"
   ]
  },
  {
   "cell_type": "code",
   "execution_count": 11,
   "id": "d6fc371d-fa41-4e5c-b1e3-dab2d91be404",
   "metadata": {},
   "outputs": [
    {
     "data": {
      "text/plain": [
       "'descriptive statistics focus on describing the visible characteristics of a dataset (a population or sample). Meanwhile, inferential statistics focus on making predictions or generalizations about a larger dataset, based on a sample of those data.'"
      ]
     },
     "execution_count": 11,
     "metadata": {},
     "output_type": "execute_result"
    }
   ],
   "source": [
    "# Question 9\n",
    "'''descriptive statistics focus on describing the visible characteristics of a dataset (a population or sample). Meanwhile, inferential statistics focus on making predictions or generalizations about a larger dataset, based on a sample of those data.'''"
   ]
  },
  {
   "cell_type": "code",
   "execution_count": null,
   "id": "947ca958-99d8-408d-949f-aec258070262",
   "metadata": {},
   "outputs": [],
   "source": [
    "# Question 10\n",
    "'''The four measures of central tendency are mean, median, mode and the midrange. Here, mid-range or mid-extreme of a set of statistical data values is the arithmetic mean of the maximum and minimum values in a data set.'''"
   ]
  }
 ],
 "metadata": {
  "kernelspec": {
   "display_name": "Python 3 (ipykernel)",
   "language": "python",
   "name": "python3"
  },
  "language_info": {
   "codemirror_mode": {
    "name": "ipython",
    "version": 3
   },
   "file_extension": ".py",
   "mimetype": "text/x-python",
   "name": "python",
   "nbconvert_exporter": "python",
   "pygments_lexer": "ipython3",
   "version": "3.10.8"
  }
 },
 "nbformat": 4,
 "nbformat_minor": 5
}
